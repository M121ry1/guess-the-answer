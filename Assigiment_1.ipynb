{
  "nbformat": 4,
  "nbformat_minor": 0,
  "metadata": {
    "colab": {
      "provenance": [],
      "authorship_tag": "ABX9TyPZG8euG7kn0t52Ym2Ub/S0",
      "include_colab_link": true
    },
    "kernelspec": {
      "name": "python3",
      "display_name": "Python 3"
    },
    "language_info": {
      "name": "python"
    }
  },
  "cells": [
    {
      "cell_type": "markdown",
      "metadata": {
        "id": "view-in-github",
        "colab_type": "text"
      },
      "source": [
        "<a href=\"https://colab.research.google.com/github/M121ry1/guess-the-answer/blob/main/Assigiment_1.ipynb\" target=\"_parent\"><img src=\"https://colab.research.google.com/assets/colab-badge.svg\" alt=\"Open In Colab\"/></a>"
      ]
    },
    {
      "cell_type": "markdown",
      "source": [
        "* Python program to get sum of two numbers."
      ],
      "metadata": {
        "id": "LH1F4F_LNcgh"
      }
    },
    {
      "cell_type": "code",
      "execution_count": 6,
      "metadata": {
        "colab": {
          "base_uri": "https://localhost:8080/"
        },
        "id": "Z1TjXm_LNDJy",
        "outputId": "7c3bfebf-a117-41d8-9cbe-8bfd3789a737"
      },
      "outputs": [
        {
          "output_type": "stream",
          "name": "stdout",
          "text": [
            "Enter a number:9\n",
            "Enter a number:8\n",
            "17\n"
          ]
        },
        {
          "output_type": "execute_result",
          "data": {
            "text/plain": [
              "17"
            ]
          },
          "metadata": {},
          "execution_count": 6
        }
      ],
      "source": [
        "#Define the function of add.\n",
        "def add_number(num1,num2):\n",
        "  return num1+num2\n",
        "#We take a number from user.\n",
        "num1=int(input(\"Enter a number:\"))\n",
        "num2=int(input(\"Enter a number:\"))\n",
        "\n",
        "sum = num1+num2\n",
        "\n",
        "#Now print the values.\n",
        "print(sum)\n",
        "#Or\n",
        "add_number(num1,num2)\n"
      ]
    },
    {
      "cell_type": "markdown",
      "source": [
        "* Python program to find the greatest of three numbers."
      ],
      "metadata": {
        "id": "EV19kwfLRR5G"
      }
    },
    {
      "cell_type": "code",
      "source": [
        "#Define the function of Max.\n",
        "def max(a, b, c):\n",
        "    if a >= b and a >= c:\n",
        "        return a\n",
        "    elif b >= a and b >= c:\n",
        "        return b\n",
        "    else:\n",
        "        return c\n",
        "#Display the result.\n",
        "max(3,5,1)\n"
      ],
      "metadata": {
        "colab": {
          "base_uri": "https://localhost:8080/"
        },
        "id": "kXqSdng9Rr1E",
        "outputId": "e4bcb896-b42d-4ccf-ae14-ee2826c24e16"
      },
      "execution_count": 12,
      "outputs": [
        {
          "output_type": "execute_result",
          "data": {
            "text/plain": [
              "5"
            ]
          },
          "metadata": {},
          "execution_count": 12
        }
      ]
    },
    {
      "cell_type": "code",
      "source": [],
      "metadata": {
        "id": "6LEELIM6zXTC"
      },
      "execution_count": null,
      "outputs": []
    },
    {
      "cell_type": "markdown",
      "source": [
        "* python program to find smallest number in a list.\n",
        "\n"
      ],
      "metadata": {
        "id": "EQ23Y9HAUYnT"
      }
    },
    {
      "cell_type": "code",
      "source": [
        "# Our list.\n",
        "list = [3, 5, 3, 6, 7]\n",
        "\n",
        "# Find smallest number.\n",
        "smallest = list[0]\n",
        "for num in list:\n",
        "    if num < smallest:\n",
        "        smallest = num\n",
        "\n",
        "# Display the result.\n",
        "smallest\n"
      ],
      "metadata": {
        "colab": {
          "base_uri": "https://localhost:8080/"
        },
        "id": "bBYCV12VUokx",
        "outputId": "20d3b58b-4187-4b3f-d6e5-35ec1095e48d"
      },
      "execution_count": 15,
      "outputs": [
        {
          "output_type": "execute_result",
          "data": {
            "text/plain": [
              "3"
            ]
          },
          "metadata": {},
          "execution_count": 15
        }
      ]
    },
    {
      "cell_type": "markdown",
      "source": [
        "* python program to find largest number in a list."
      ],
      "metadata": {
        "id": "g_JSm2R1XRhw"
      }
    },
    {
      "cell_type": "code",
      "source": [
        "# Our list.\n",
        "list = [3, 5, 3, 6, 7]\n",
        "\n",
        "# Find Largest number.\n",
        "largest = list[0]\n",
        "for num in list:\n",
        "    if num > largest:\n",
        "        largest = num\n",
        "\n",
        "# Display the result.\n",
        "largest"
      ],
      "metadata": {
        "colab": {
          "base_uri": "https://localhost:8080/"
        },
        "id": "MnsLqRbsXksT",
        "outputId": "d4ece485-0a91-44ab-ad08-27dceaf9d783"
      },
      "execution_count": 17,
      "outputs": [
        {
          "output_type": "execute_result",
          "data": {
            "text/plain": [
              "7"
            ]
          },
          "metadata": {},
          "execution_count": 17
        }
      ]
    },
    {
      "cell_type": "markdown",
      "source": [
        "* Give two integer number ,return their product and if the product is greater than 1000,then return their sum."
      ],
      "metadata": {
        "id": "DGCCcuI-YQr5"
      }
    },
    {
      "cell_type": "code",
      "source": [
        "#Take two number form users.\n",
        "num1=int(input(\"Enter a number :\"))\n",
        "num2=int(input(\"Enter a number :\"))\n",
        "#Find there products.\n",
        "product=num1*num2\n",
        "if product>1000:\n",
        "   print(num1+num2)\n",
        "\n",
        "elif product<1000:\n",
        "   print(product)\n",
        "\n"
      ],
      "metadata": {
        "colab": {
          "base_uri": "https://localhost:8080/"
        },
        "id": "GNn2yS_YY2Vx",
        "outputId": "b39f4ce4-8877-4f8b-fe07-b54e4358d80d"
      },
      "execution_count": 23,
      "outputs": [
        {
          "output_type": "stream",
          "name": "stdout",
          "text": [
            "Enter a number :100\n",
            "Enter a number :40\n",
            "140\n"
          ]
        }
      ]
    },
    {
      "cell_type": "markdown",
      "source": [
        "* Python program to print duplicates from a list of integers.\n"
      ],
      "metadata": {
        "id": "8yR24CW1b1tO"
      }
    },
    {
      "cell_type": "code",
      "source": [
        "#Given list.\n",
        "list = [1, 2, 3, 2, 4, 5, 6, 1, 7, 8, 5]\n",
        "original_list = set(list)\n",
        "#Print original list.\n",
        "original_list\n",
        "#Find the duplicate.\n",
        "for num in original_list:\n",
        "  if num>=1:\n",
        "    count=list.count(num)\n",
        "    if count>1:\n",
        "      print(\"Original List:\",original_list)\n",
        "      print(\"Duplicate :\",num)\n",
        "\n"
      ],
      "metadata": {
        "colab": {
          "base_uri": "https://localhost:8080/"
        },
        "id": "6-tRnfHXcQmJ",
        "outputId": "e93d48b0-5bcf-4445-e98e-47a3bab6f0ad"
      },
      "execution_count": 48,
      "outputs": [
        {
          "output_type": "stream",
          "name": "stdout",
          "text": [
            "Original List: {1, 2, 3, 4, 5, 6, 7, 8}\n",
            "Duplicate : 1\n",
            "Original List: {1, 2, 3, 4, 5, 6, 7, 8}\n",
            "Duplicate : 2\n",
            "Original List: {1, 2, 3, 4, 5, 6, 7, 8}\n",
            "Duplicate : 5\n"
          ]
        }
      ]
    },
    {
      "cell_type": "markdown",
      "source": [
        "* Given string ,display only those characters which are present at an even index number."
      ],
      "metadata": {
        "id": "4CkMJS-RhtZU"
      }
    },
    {
      "cell_type": "code",
      "source": [
        "string = input(\"Enter a string:\")\n",
        "for i in range (len(string)):\n",
        "  if i%2==0:\n",
        "    print(string[i])\n"
      ],
      "metadata": {
        "colab": {
          "base_uri": "https://localhost:8080/"
        },
        "id": "oBudX2s5iL4j",
        "outputId": "3c2df9ab-826a-4b71-94a3-048d32696c17"
      },
      "execution_count": 57,
      "outputs": [
        {
          "output_type": "stream",
          "name": "stdout",
          "text": [
            "Enter a string:Pregard Campus\n",
            "P\n",
            "e\n",
            "a\n",
            "d\n",
            "C\n",
            "m\n",
            "u\n"
          ]
        }
      ]
    },
    {
      "cell_type": "markdown",
      "source": [
        "* Check if the given number is even or not.\n"
      ],
      "metadata": {
        "id": "6Ezw3AVsqanO"
      }
    },
    {
      "cell_type": "markdown",
      "source": [],
      "metadata": {
        "id": "r1pk4Lstws3i"
      }
    },
    {
      "cell_type": "code",
      "source": [
        "numbers =int(input(\"Enter a number\"))\n",
        "\n",
        "if numbers%2 == 0:\n",
        "    print(\"even\")\n",
        "else:\n",
        "    print('odd')"
      ],
      "metadata": {
        "colab": {
          "base_uri": "https://localhost:8080/"
        },
        "id": "IpoIBGAmqlsP",
        "outputId": "942931bb-cf32-4e94-c3fe-21625ba358bb"
      },
      "execution_count": 71,
      "outputs": [
        {
          "output_type": "stream",
          "name": "stdout",
          "text": [
            "Enter a number8\n",
            "even\n"
          ]
        }
      ]
    },
    {
      "cell_type": "markdown",
      "source": [
        "* Python program to check if given number is prime or not.\n"
      ],
      "metadata": {
        "id": "nG1YUD0tyjkW"
      }
    },
    {
      "cell_type": "code",
      "source": [
        "number = int(input(\"Enter a number:\"))\n",
        "if number>1:\n",
        " for i in range(2,number):\n",
        "  if number % i == 0:\n",
        "    print(\"it is not a prime\")\n",
        "    break\n",
        "  else:\n",
        "    print(\"it is a prime\")"
      ],
      "metadata": {
        "colab": {
          "base_uri": "https://localhost:8080/"
        },
        "id": "epvdY880zHrt",
        "outputId": "b36fb45f-a4cf-48ab-d9e5-baf071830056"
      },
      "execution_count": 79,
      "outputs": [
        {
          "output_type": "stream",
          "name": "stdout",
          "text": [
            "Enter a number:8\n",
            "it is not a prime\n"
          ]
        }
      ]
    },
    {
      "cell_type": "markdown",
      "source": [
        "* Python code to check if a given character is digit or not."
      ],
      "metadata": {
        "id": "OHD9Gbei5Svf"
      }
    },
    {
      "cell_type": "code",
      "source": [
        "char = input(\"Enter a Charact\")\n",
        "if char.isdigit():\n",
        "  print(\"character is digit:\")\n",
        "else:\n",
        "  print(\"character is not a digit:\")"
      ],
      "metadata": {
        "colab": {
          "base_uri": "https://localhost:8080/"
        },
        "id": "bYKrykOa7j-N",
        "outputId": "dfe0d24a-b679-425a-bb39-0f92b4ddcea4"
      },
      "execution_count": 81,
      "outputs": [
        {
          "output_type": "stream",
          "name": "stdout",
          "text": [
            "Enter a Charact5\n",
            "character is digit:\n"
          ]
        }
      ]
    },
    {
      "cell_type": "markdown",
      "source": [
        "* Python code to check if a given character is a vowel or consonant."
      ],
      "metadata": {
        "id": "WZ9TPWWPCoSS"
      }
    },
    {
      "cell_type": "code",
      "source": [
        "char1 = input(\"Enter a character\")\n",
        "if char1 in ['a','e','i','o','u']:\n",
        "  print(\"Character is vowel:\")\n",
        "elif char1.isalpha():\n",
        "     print(\"Character is consonant:\",char1)\n",
        "else:\n",
        "     print(\"Character is alphabet:\",char1)"
      ],
      "metadata": {
        "colab": {
          "base_uri": "https://localhost:8080/"
        },
        "id": "61h_bBGPC5-L",
        "outputId": "945a7051-75bf-4bdc-acf5-8d29e0fc0cb2"
      },
      "execution_count": 88,
      "outputs": [
        {
          "output_type": "stream",
          "name": "stdout",
          "text": [
            "Enter a character4\n",
            "Character is alphabet: 4\n"
          ]
        }
      ]
    },
    {
      "cell_type": "markdown",
      "source": [
        "* We have to perform addition on a list [7,4,2,9] and after addition it should give 7429."
      ],
      "metadata": {
        "id": "1McPBhItGitT"
      }
    },
    {
      "cell_type": "code",
      "source": [
        "list = [7,4,2,9]\n",
        "join = int(\"\".join(map(str, list)))\n",
        "print(join)"
      ],
      "metadata": {
        "colab": {
          "base_uri": "https://localhost:8080/"
        },
        "id": "f1M9H89LG9nX",
        "outputId": "c7347aff-6efb-45a6-a08b-a8d9d58fb9cc"
      },
      "execution_count": 90,
      "outputs": [
        {
          "output_type": "stream",
          "name": "stdout",
          "text": [
            "7429\n"
          ]
        }
      ]
    }
  ]
}